{
  "nbformat": 4,
  "nbformat_minor": 0,
  "metadata": {
    "colab": {
      "provenance": [],
      "include_colab_link": true
    },
    "kernelspec": {
      "name": "python3",
      "display_name": "Python 3"
    },
    "language_info": {
      "name": "python"
    }
  },
  "cells": [
    {
      "cell_type": "markdown",
      "metadata": {
        "id": "view-in-github",
        "colab_type": "text"
      },
      "source": [
        "<a href=\"https://colab.research.google.com/github/ArnikaModadugu/Healthcare_Readmission/blob/main/Healthcare.ipynb\" target=\"_parent\"><img src=\"https://colab.research.google.com/assets/colab-badge.svg\" alt=\"Open In Colab\"/></a>"
      ]
    },
    {
      "cell_type": "code",
      "execution_count": null,
      "metadata": {
        "id": "fjyX4CLxzq0N"
      },
      "outputs": [],
      "source": [
        "import pandas as pd\n",
        "from sklearn.preprocessing import StandardScaler\n",
        "from sklearn.impute import SimpleImputer\n",
        "from sklearn.cluster import AgglomerativeClustering\n",
        "from sklearn.metrics import classification_report, accuracy_score, confusion_matrix"
      ]
    },
    {
      "cell_type": "code",
      "source": [
        "import pandas as pd\n",
        "import requests\n",
        "import io\n",
        "\n",
        "# URL of the CSV file\n",
        "url = \"https://data.mendeley.com/public-files/datasets/nntck7ddgt/files/ad5a60c4-3ba4-461d-9c30-c082c44d2067/file_downloaded\"\n",
        "\n",
        "# Specify user-agent\n",
        "user_agent = 'Mozilla/5.0 (Windows NT 10.0; Win64; x64) AppleWebKit/537.36 (KHTML, like Gecko) Chrome/58.0.3029.110 Safari/537.36'\n",
        "\n",
        "# Send a request to the server with the specified user-agent\n",
        "response = requests.get(url, headers={'User-Agent': user_agent})\n",
        "\n",
        "# Read the CSV file into a DataFrame\n",
        "try:\n",
        "    # Create a file-like object from the response content\n",
        "    file_like_object = io.BytesIO(response.content)\n",
        "    # Read the CSV content from the file-like object into a DataFrame\n",
        "    df = pd.read_csv(file_like_object)\n",
        "    # Display the first few rows of the DataFrame\n",
        "    print(df.head())\n",
        "except Exception as e:\n",
        "    print(\"An error occurred:\", e)\n"
      ],
      "metadata": {
        "colab": {
          "base_uri": "https://localhost:8080/"
        },
        "id": "NFc22CrSS2y_",
        "outputId": "a575ee0d-b996-49c0-b737-1a30ad4ac563"
      },
      "execution_count": null,
      "outputs": [
        {
          "output_type": "stream",
          "name": "stdout",
          "text": [
            "   encounter_id  patient_nbr             race  gender      age weight  \\\n",
            "0       2278392      8222157        Caucasian  Female   [0-10)      ?   \n",
            "1        149190     55629189        Caucasian  Female  [10-20)      ?   \n",
            "2         64410     86047875  AfricanAmerican  Female  [20-30)      ?   \n",
            "3        500364     82442376        Caucasian    Male  [30-40)      ?   \n",
            "4         16680     42519267        Caucasian    Male  [40-50)      ?   \n",
            "\n",
            "   admission_type_id  discharge_disposition_id  admission_source_id  \\\n",
            "0                  6                        25                    1   \n",
            "1                  1                         1                    7   \n",
            "2                  1                         1                    7   \n",
            "3                  1                         1                    7   \n",
            "4                  1                         1                    7   \n",
            "\n",
            "   time_in_hospital  ... citoglipton insulin  glyburide-metformin  \\\n",
            "0                 1  ...          No      No                   No   \n",
            "1                 3  ...          No      Up                   No   \n",
            "2                 2  ...          No      No                   No   \n",
            "3                 2  ...          No      Up                   No   \n",
            "4                 1  ...          No  Steady                   No   \n",
            "\n",
            "   glipizide-metformin  glimepiride-pioglitazone  metformin-rosiglitazone  \\\n",
            "0                   No                        No                       No   \n",
            "1                   No                        No                       No   \n",
            "2                   No                        No                       No   \n",
            "3                   No                        No                       No   \n",
            "4                   No                        No                       No   \n",
            "\n",
            "   metformin-pioglitazone  change diabetesMed readmitted  \n",
            "0                      No      No          No         NO  \n",
            "1                      No      Ch         Yes        >30  \n",
            "2                      No      No         Yes         NO  \n",
            "3                      No      Ch         Yes         NO  \n",
            "4                      No      Ch         Yes         NO  \n",
            "\n",
            "[5 rows x 50 columns]\n"
          ]
        }
      ]
    },
    {
      "cell_type": "code",
      "source": [
        "df.info()"
      ],
      "metadata": {
        "colab": {
          "base_uri": "https://localhost:8080/"
        },
        "id": "_lhCTKs4UNQ2",
        "outputId": "511c3608-9409-4450-b1ba-3a8e487e1abb"
      },
      "execution_count": null,
      "outputs": [
        {
          "output_type": "stream",
          "name": "stdout",
          "text": [
            "<class 'pandas.core.frame.DataFrame'>\n",
            "RangeIndex: 101766 entries, 0 to 101765\n",
            "Data columns (total 50 columns):\n",
            " #   Column                    Non-Null Count   Dtype \n",
            "---  ------                    --------------   ----- \n",
            " 0   encounter_id              101766 non-null  int64 \n",
            " 1   patient_nbr               101766 non-null  int64 \n",
            " 2   race                      101766 non-null  object\n",
            " 3   gender                    101766 non-null  object\n",
            " 4   age                       101766 non-null  object\n",
            " 5   weight                    101766 non-null  object\n",
            " 6   admission_type_id         101766 non-null  int64 \n",
            " 7   discharge_disposition_id  101766 non-null  int64 \n",
            " 8   admission_source_id       101766 non-null  int64 \n",
            " 9   time_in_hospital          101766 non-null  int64 \n",
            " 10  payer_code                101766 non-null  object\n",
            " 11  medical_specialty         101766 non-null  object\n",
            " 12  num_lab_procedures        101766 non-null  int64 \n",
            " 13  num_procedures            101766 non-null  int64 \n",
            " 14  num_medications           101766 non-null  int64 \n",
            " 15  number_outpatient         101766 non-null  int64 \n",
            " 16  number_emergency          101766 non-null  int64 \n",
            " 17  number_inpatient          101766 non-null  int64 \n",
            " 18  diag_1                    101766 non-null  object\n",
            " 19  diag_2                    101766 non-null  object\n",
            " 20  diag_3                    101766 non-null  object\n",
            " 21  number_diagnoses          101766 non-null  int64 \n",
            " 22  max_glu_serum             5346 non-null    object\n",
            " 23  A1Cresult                 17018 non-null   object\n",
            " 24  metformin                 101766 non-null  object\n",
            " 25  repaglinide               101766 non-null  object\n",
            " 26  nateglinide               101766 non-null  object\n",
            " 27  chlorpropamide            101766 non-null  object\n",
            " 28  glimepiride               101766 non-null  object\n",
            " 29  acetohexamide             101766 non-null  object\n",
            " 30  glipizide                 101766 non-null  object\n",
            " 31  glyburide                 101766 non-null  object\n",
            " 32  tolbutamide               101766 non-null  object\n",
            " 33  pioglitazone              101766 non-null  object\n",
            " 34  rosiglitazone             101766 non-null  object\n",
            " 35  acarbose                  101766 non-null  object\n",
            " 36  miglitol                  101766 non-null  object\n",
            " 37  troglitazone              101766 non-null  object\n",
            " 38  tolazamide                101766 non-null  object\n",
            " 39  examide                   101766 non-null  object\n",
            " 40  citoglipton               101766 non-null  object\n",
            " 41  insulin                   101766 non-null  object\n",
            " 42  glyburide-metformin       101766 non-null  object\n",
            " 43  glipizide-metformin       101766 non-null  object\n",
            " 44  glimepiride-pioglitazone  101766 non-null  object\n",
            " 45  metformin-rosiglitazone   101766 non-null  object\n",
            " 46  metformin-pioglitazone    101766 non-null  object\n",
            " 47  change                    101766 non-null  object\n",
            " 48  diabetesMed               101766 non-null  object\n",
            " 49  readmitted                101766 non-null  object\n",
            "dtypes: int64(13), object(37)\n",
            "memory usage: 38.8+ MB\n"
          ]
        }
      ]
    },
    {
      "cell_type": "code",
      "source": [
        "# Initialize an empty list to store column names\n",
        "columns_with_high_percentage = []\n",
        "columns_with_nullvalues = []\n",
        "# Set the threshold percentage\n",
        "threshold_percentage = 40\n",
        "\n",
        "# Iterate over each column in the DataFrame\n",
        "for column in df.columns:\n",
        "    # Calculate the percentage of '?' in the current column\n",
        "    percentage = (df[column] == '?').sum() / len(df[column]) * 100\n",
        "    # Check if the percentage is greater than the threshold\n",
        "    if percentage > threshold_percentage:\n",
        "        columns_with_high_percentage.append(column)\n",
        "    if percentage >0:\n",
        "        columns_with_nullvalues.append(column)"
      ],
      "metadata": {
        "id": "cDeyEvZ3UNU7"
      },
      "execution_count": null,
      "outputs": []
    },
    {
      "cell_type": "code",
      "source": [
        "columns_with_high_percentage"
      ],
      "metadata": {
        "colab": {
          "base_uri": "https://localhost:8080/"
        },
        "id": "nZQwTFn5UNXg",
        "outputId": "87f34f51-2504-4892-9668-5514279cf875"
      },
      "execution_count": null,
      "outputs": [
        {
          "output_type": "execute_result",
          "data": {
            "text/plain": [
              "['weight', 'medical_specialty']"
            ]
          },
          "metadata": {},
          "execution_count": 5
        }
      ]
    },
    {
      "cell_type": "code",
      "source": [
        "df.drop(columns=columns_with_high_percentage, inplace=True)"
      ],
      "metadata": {
        "id": "WahUHSBPUNsz"
      },
      "execution_count": null,
      "outputs": []
    },
    {
      "cell_type": "code",
      "source": [
        "columns_with_nullvalues"
      ],
      "metadata": {
        "colab": {
          "base_uri": "https://localhost:8080/"
        },
        "id": "pP0qWcYGUNvT",
        "outputId": "759c3140-b75b-440c-c3f4-d069677ecadf"
      },
      "execution_count": null,
      "outputs": [
        {
          "output_type": "execute_result",
          "data": {
            "text/plain": [
              "['race',\n",
              " 'weight',\n",
              " 'payer_code',\n",
              " 'medical_specialty',\n",
              " 'diag_1',\n",
              " 'diag_2',\n",
              " 'diag_3']"
            ]
          },
          "metadata": {},
          "execution_count": 7
        }
      ]
    },
    {
      "cell_type": "code",
      "source": [
        "df.drop(columns='payer_code', inplace=True)"
      ],
      "metadata": {
        "id": "UHfNlwKgUNx7"
      },
      "execution_count": null,
      "outputs": []
    },
    {
      "cell_type": "code",
      "source": [
        "# Replace '?' values with NaN\n",
        "df.replace('?', inplace=True, value=pd.NA)\n",
        "\n",
        "# Drop rows containing NaN values\n",
        "df_cleaned = df.dropna()\n",
        "\n"
      ],
      "metadata": {
        "id": "To2cfNEXUN0X"
      },
      "execution_count": null,
      "outputs": []
    },
    {
      "cell_type": "code",
      "source": [
        "binaryCols = ['change','diabetesMed']\n",
        "for i in binaryCols:\n",
        "    df[i] = df[i].apply(lambda x: 0 if x == 'No' else 1)"
      ],
      "metadata": {
        "id": "ZLEGJa-MUfyR"
      },
      "execution_count": null,
      "outputs": []
    },
    {
      "cell_type": "code",
      "source": [
        "binaryCols = ['readmitted']\n",
        "for i in binaryCols:\n",
        "    df[i] = df[i].apply(lambda x: 0 if x == 'NO' else 1)"
      ],
      "metadata": {
        "id": "CazPAghtUf0s"
      },
      "execution_count": null,
      "outputs": []
    },
    {
      "cell_type": "code",
      "source": [
        "# define function to remove the outliers\n",
        "def remove_outlier(df, cols):\n",
        "    for col in cols:\n",
        "        q1 = df[col].quantile(0.25)\n",
        "        q3 = df[col].quantile(0.75)\n",
        "        iqr = q3 - q1\n",
        "        low_bound = q1 - 1.5*iqr\n",
        "        upp_bound = q1 + 1.5*iqr\n",
        "        df = df[(df[col] >= low_bound) & (df[col] <= upp_bound)]\n",
        "    return df\n",
        "\n",
        "# specify particular columns to remove outliers\n",
        "cols_to_check = ['num_medications', 'number_outpatient', 'number_inpatient', 'number_emergency']\n",
        "\n",
        "# calling the function\n",
        "df_final = remove_outlier(df, cols_to_check)\n",
        "pd.set_option('display.max_columns',None)\n",
        "print(df_final)\n",
        "\n",
        "\n",
        "\n",
        "\n"
      ],
      "metadata": {
        "colab": {
          "base_uri": "https://localhost:8080/"
        },
        "id": "6aPKHqhwUf3V",
        "outputId": "cfeafef1-dd5a-46cf-9bf0-003177f7ef26"
      },
      "execution_count": null,
      "outputs": [
        {
          "output_type": "stream",
          "name": "stdout",
          "text": [
            "        encounter_id  patient_nbr             race  gender      age  \\\n",
            "0            2278392      8222157        Caucasian  Female   [0-10)   \n",
            "1             149190     55629189        Caucasian  Female  [10-20)   \n",
            "3             500364     82442376        Caucasian    Male  [30-40)   \n",
            "4              16680     42519267        Caucasian    Male  [40-50)   \n",
            "5              35754     82637451        Caucasian    Male  [50-60)   \n",
            "...              ...          ...              ...     ...      ...   \n",
            "101757     443842136    181593374        Caucasian  Female  [70-80)   \n",
            "101761     443847548    100162476  AfricanAmerican    Male  [70-80)   \n",
            "101762     443847782     74694222  AfricanAmerican  Female  [80-90)   \n",
            "101764     443857166     31693671        Caucasian  Female  [80-90)   \n",
            "101765     443867222    175429310        Caucasian    Male  [70-80)   \n",
            "\n",
            "        admission_type_id  discharge_disposition_id  admission_source_id  \\\n",
            "0                       6                        25                    1   \n",
            "1                       1                         1                    7   \n",
            "3                       1                         1                    7   \n",
            "4                       1                         1                    7   \n",
            "5                       2                         1                    2   \n",
            "...                   ...                       ...                  ...   \n",
            "101757                  1                         1                    7   \n",
            "101761                  1                         3                    7   \n",
            "101762                  1                         4                    5   \n",
            "101764                  2                         3                    7   \n",
            "101765                  1                         1                    7   \n",
            "\n",
            "        time_in_hospital  num_lab_procedures  num_procedures  num_medications  \\\n",
            "0                      1                  41               0                1   \n",
            "1                      3                  59               0               18   \n",
            "3                      2                  44               1               16   \n",
            "4                      1                  51               0                8   \n",
            "5                      3                  31               6               16   \n",
            "...                  ...                 ...             ...              ...   \n",
            "101757                 5                  21               1               16   \n",
            "101761                 3                  51               0               16   \n",
            "101762                 5                  33               3               18   \n",
            "101764                10                  45               2               21   \n",
            "101765                 6                  13               3                3   \n",
            "\n",
            "        number_outpatient  number_emergency  number_inpatient  diag_1  diag_2  \\\n",
            "0                       0                 0                 0  250.83    <NA>   \n",
            "1                       0                 0                 0     276  250.01   \n",
            "3                       0                 0                 0       8  250.43   \n",
            "4                       0                 0                 0     197     157   \n",
            "5                       0                 0                 0     414     411   \n",
            "...                   ...               ...               ...     ...     ...   \n",
            "101757                  0                 0                 1     491     518   \n",
            "101761                  0                 0                 0  250.13     291   \n",
            "101762                  0                 0                 1     560     276   \n",
            "101764                  0                 0                 1     996     285   \n",
            "101765                  0                 0                 0     530     530   \n",
            "\n",
            "       diag_3  number_diagnoses max_glu_serum A1Cresult metformin repaglinide  \\\n",
            "0        <NA>                 1           NaN       NaN        No          No   \n",
            "1         255                 9           NaN       NaN        No          No   \n",
            "3         403                 7           NaN       NaN        No          No   \n",
            "4         250                 5           NaN       NaN        No          No   \n",
            "5         250                 9           NaN       NaN        No          No   \n",
            "...       ...               ...           ...       ...       ...         ...   \n",
            "101757    511                 9           NaN       NaN        No          No   \n",
            "101761    458                 9           NaN        >8    Steady          No   \n",
            "101762    787                 9           NaN       NaN        No          No   \n",
            "101764    998                 9           NaN       NaN        No          No   \n",
            "101765    787                 9           NaN       NaN        No          No   \n",
            "\n",
            "       nateglinide chlorpropamide glimepiride acetohexamide glipizide  \\\n",
            "0               No             No          No            No        No   \n",
            "1               No             No          No            No        No   \n",
            "3               No             No          No            No        No   \n",
            "4               No             No          No            No    Steady   \n",
            "5               No             No          No            No        No   \n",
            "...            ...            ...         ...           ...       ...   \n",
            "101757          No             No          No            No        No   \n",
            "101761          No             No          No            No        No   \n",
            "101762          No             No          No            No        No   \n",
            "101764          No             No          No            No    Steady   \n",
            "101765          No             No          No            No        No   \n",
            "\n",
            "       glyburide tolbutamide pioglitazone rosiglitazone acarbose miglitol  \\\n",
            "0             No          No           No            No       No       No   \n",
            "1             No          No           No            No       No       No   \n",
            "3             No          No           No            No       No       No   \n",
            "4             No          No           No            No       No       No   \n",
            "5             No          No           No            No       No       No   \n",
            "...          ...         ...          ...           ...      ...      ...   \n",
            "101757        No          No           No            No       No       No   \n",
            "101761        No          No           No            No       No       No   \n",
            "101762        No          No           No            No       No       No   \n",
            "101764        No          No       Steady            No       No       No   \n",
            "101765        No          No           No            No       No       No   \n",
            "\n",
            "       troglitazone tolazamide examide citoglipton insulin  \\\n",
            "0                No         No      No          No      No   \n",
            "1                No         No      No          No      Up   \n",
            "3                No         No      No          No      Up   \n",
            "4                No         No      No          No  Steady   \n",
            "5                No         No      No          No  Steady   \n",
            "...             ...        ...     ...         ...     ...   \n",
            "101757           No         No      No          No  Steady   \n",
            "101761           No         No      No          No    Down   \n",
            "101762           No         No      No          No  Steady   \n",
            "101764           No         No      No          No      Up   \n",
            "101765           No         No      No          No      No   \n",
            "\n",
            "       glyburide-metformin glipizide-metformin glimepiride-pioglitazone  \\\n",
            "0                       No                  No                       No   \n",
            "1                       No                  No                       No   \n",
            "3                       No                  No                       No   \n",
            "4                       No                  No                       No   \n",
            "5                       No                  No                       No   \n",
            "...                    ...                 ...                      ...   \n",
            "101757                  No                  No                       No   \n",
            "101761                  No                  No                       No   \n",
            "101762                  No                  No                       No   \n",
            "101764                  No                  No                       No   \n",
            "101765                  No                  No                       No   \n",
            "\n",
            "       metformin-rosiglitazone metformin-pioglitazone  change  diabetesMed  \\\n",
            "0                           No                     No       0            0   \n",
            "1                           No                     No       1            1   \n",
            "3                           No                     No       1            1   \n",
            "4                           No                     No       1            1   \n",
            "5                           No                     No       0            1   \n",
            "...                        ...                    ...     ...          ...   \n",
            "101757                      No                     No       0            1   \n",
            "101761                      No                     No       1            1   \n",
            "101762                      No                     No       0            1   \n",
            "101764                      No                     No       1            1   \n",
            "101765                      No                     No       0            0   \n",
            "\n",
            "        readmitted  \n",
            "0                0  \n",
            "1                1  \n",
            "3                0  \n",
            "4                0  \n",
            "5                1  \n",
            "...            ...  \n",
            "101757           0  \n",
            "101761           1  \n",
            "101762           0  \n",
            "101764           0  \n",
            "101765           0  \n",
            "\n",
            "[62011 rows x 47 columns]\n"
          ]
        }
      ]
    },
    {
      "cell_type": "markdown",
      "source": [],
      "metadata": {
        "id": "ZI4MKoTQMU5e"
      }
    },
    {
      "cell_type": "code",
      "source": [
        "#imputer = SimpleImputer(strategy=\"mean\")\n",
        "\n",
        "#df_final[['diag_1', 'diag_2', 'diag_3']] = imputer.fit_transform(df_final[['diag_1', 'diag_2', 'diag_3']])\n",
        "\n",
        "# Handle missing values in diagnosis columns\n",
        "#df_final['diag_1'].fillna('Missing', inplace=True)\n",
        "#df_final['diag_2'].fillna('Missing', inplace=True)\n",
        "#df_final['diag_3'].fillna('Missing', inplace=True)\n",
        "\n",
        "\n",
        "# Encode categorical variables\n",
        "df_final = pd.get_dummies(df_final, columns=['race', 'gender', 'age', 'max_glu_serum', 'A1Cresult', 'change', 'diabetesMed',\n",
        "                                     'metformin', 'repaglinide', 'nateglinide', 'chlorpropamide', 'glimepiride',\n",
        "                                     'acetohexamide', 'glipizide', 'glyburide', 'tolbutamide', 'pioglitazone',\n",
        "                                     'rosiglitazone', 'acarbose', 'miglitol', 'troglitazone', 'tolazamide',\n",
        "                                     'examide', 'citoglipton', 'insulin', 'glyburide-metformin',\n",
        "                                     'glipizide-metformin', 'glimepiride-pioglitazone', 'metformin-rosiglitazone',\n",
        "                                     'metformin-pioglitazone'])\n",
        "\n",
        "\n",
        "scaler = StandardScaler()\n",
        "numerical_features = ['time_in_hospital', 'num_lab_procedures', 'num_procedures', 'num_medications',\n",
        "                      'number_outpatient', 'number_emergency', 'number_inpatient', 'number_diagnoses']\n",
        "df_final[numerical_features] = scaler.fit_transform(df_final[numerical_features])\n",
        "\n"
      ],
      "metadata": {
        "id": "t0wHaFWuZDYM"
      },
      "execution_count": null,
      "outputs": []
    },
    {
      "cell_type": "markdown",
      "source": [
        "Support Vector Machine"
      ],
      "metadata": {
        "id": "wXvgG54O0oFO"
      }
    },
    {
      "cell_type": "code",
      "source": [
        "X= df[['time_in_hospital', 'num_lab_procedures', 'num_procedures', 'num_medications',\n",
        "                      'number_outpatient', 'number_emergency', 'number_inpatient', 'number_diagnoses']]"
      ],
      "metadata": {
        "id": "zOCuYj_-sU_-"
      },
      "execution_count": null,
      "outputs": []
    },
    {
      "cell_type": "code",
      "source": [
        "Y= df[['readmitted']]"
      ],
      "metadata": {
        "id": "5WfJxnEasVFw"
      },
      "execution_count": null,
      "outputs": []
    },
    {
      "cell_type": "code",
      "source": [
        "from sklearn.model_selection import train_test_split"
      ],
      "metadata": {
        "id": "Bw5REsjDsVIb"
      },
      "execution_count": null,
      "outputs": []
    },
    {
      "cell_type": "code",
      "source": [
        "X_train,X_test,Y_train,Y_test=train_test_split(X,Y,test_size=0.25,random_state=42)"
      ],
      "metadata": {
        "id": "cwDB7S7RsVLK"
      },
      "execution_count": null,
      "outputs": []
    },
    {
      "cell_type": "code",
      "source": [
        "sc_X = StandardScaler()\n",
        "X_train=sc_X.fit_transform(X_train)\n",
        "X_test=sc_X.transform(X_test)"
      ],
      "metadata": {
        "id": "uFtofRwIsVOj"
      },
      "execution_count": null,
      "outputs": []
    },
    {
      "cell_type": "markdown",
      "source": [
        "Feature Selection"
      ],
      "metadata": {
        "id": "JbbPfcJrsWBA"
      }
    },
    {
      "cell_type": "code",
      "source": [
        "from sklearn.ensemble import RandomForestClassifier\n",
        "import numpy as np\n",
        "\n",
        "# Assuming X_train and Y_train are your training data and labels respectively\n",
        "# Assuming df is your DataFrame containing the data\n",
        "feature_names = df_final[['time_in_hospital', 'num_lab_procedures', 'num_procedures', 'num_medications',\n",
        "                    'number_outpatient', 'number_emergency', 'number_inpatient', 'number_diagnoses']].columns.tolist()\n",
        "\n",
        "# Train a Random Forest classifier\n",
        "rf_classifier = RandomForestClassifier()\n",
        "rf_classifier.fit(X_train, Y_train)\n",
        "\n",
        "# Extract feature importances\n",
        "importances = rf_classifier.feature_importances_\n",
        "\n",
        "# Sort feature importances in descending order\n",
        "indices = np.argsort(importances)[::-1]\n",
        "\n",
        "# Print the feature ranking\n",
        "print(\"Feature ranking:\")\n",
        "for f in range(X_train.shape[1]):\n",
        "    print(\"%d. feature %d: %s (%f)\" % (f + 1, indices[f], feature_names[indices[f]], importances[indices[f]]))\n",
        "\n",
        "# Select top N features\n",
        "N = 5  # Set the number of top features you want to select\n",
        "selected_features = indices[:N]\n",
        "\n",
        "# Print selected feature names\n",
        "print(\"Selected feature names:\")\n",
        "for feature_idx in selected_features:\n",
        "    print(feature_names[feature_idx])\n",
        "\n",
        "# Use selected features for training\n",
        "X_train_selected = X_train[:, selected_features]\n",
        "\n",
        "X_test_selected = X_test[:, selected_features]\n"
      ],
      "metadata": {
        "colab": {
          "base_uri": "https://localhost:8080/"
        },
        "id": "zwylipVopQyZ",
        "outputId": "d86dcbe1-a7d8-492a-cb8f-10021046c9e9"
      },
      "execution_count": null,
      "outputs": [
        {
          "output_type": "stream",
          "name": "stderr",
          "text": [
            "<ipython-input-19-5ed992dc6d3d>:11: DataConversionWarning: A column-vector y was passed when a 1d array was expected. Please change the shape of y to (n_samples,), for example using ravel().\n",
            "  rf_classifier.fit(X_train, Y_train)\n"
          ]
        },
        {
          "output_type": "stream",
          "name": "stdout",
          "text": [
            "Feature ranking:\n",
            "1. feature 1: num_lab_procedures (0.396667)\n",
            "2. feature 3: num_medications (0.240376)\n",
            "3. feature 0: time_in_hospital (0.119772)\n",
            "4. feature 7: number_diagnoses (0.066348)\n",
            "5. feature 6: number_inpatient (0.063643)\n",
            "6. feature 2: num_procedures (0.062134)\n",
            "7. feature 4: number_outpatient (0.030746)\n",
            "8. feature 5: number_emergency (0.020315)\n",
            "Selected feature names:\n",
            "num_lab_procedures\n",
            "num_medications\n",
            "time_in_hospital\n",
            "number_diagnoses\n",
            "number_inpatient\n"
          ]
        }
      ]
    },
    {
      "cell_type": "code",
      "source": [
        "from sklearn.svm import SVC\n",
        "import numpy as np\n",
        "\n",
        "# Assuming X_train and Y_train are your training data and labels respectively\n",
        "classifier = SVC(kernel=\"rbf\")\n",
        "\n",
        "# If Y_train is a column vector, flatten it to a 1D array\n",
        "Y_train = np.ravel(Y_train)\n",
        "\n",
        "# Fit the classifier\n",
        "classifier.fit(X_train_selected, Y_train)\n"
      ],
      "metadata": {
        "id": "39NQkNyHq_9r",
        "colab": {
          "base_uri": "https://localhost:8080/",
          "height": 75
        },
        "outputId": "4cf66f53-81a2-4dc7-f5c8-c952699480d5"
      },
      "execution_count": null,
      "outputs": [
        {
          "output_type": "execute_result",
          "data": {
            "text/plain": [
              "SVC()"
            ],
            "text/html": [
              "<style>#sk-container-id-1 {color: black;background-color: white;}#sk-container-id-1 pre{padding: 0;}#sk-container-id-1 div.sk-toggleable {background-color: white;}#sk-container-id-1 label.sk-toggleable__label {cursor: pointer;display: block;width: 100%;margin-bottom: 0;padding: 0.3em;box-sizing: border-box;text-align: center;}#sk-container-id-1 label.sk-toggleable__label-arrow:before {content: \"▸\";float: left;margin-right: 0.25em;color: #696969;}#sk-container-id-1 label.sk-toggleable__label-arrow:hover:before {color: black;}#sk-container-id-1 div.sk-estimator:hover label.sk-toggleable__label-arrow:before {color: black;}#sk-container-id-1 div.sk-toggleable__content {max-height: 0;max-width: 0;overflow: hidden;text-align: left;background-color: #f0f8ff;}#sk-container-id-1 div.sk-toggleable__content pre {margin: 0.2em;color: black;border-radius: 0.25em;background-color: #f0f8ff;}#sk-container-id-1 input.sk-toggleable__control:checked~div.sk-toggleable__content {max-height: 200px;max-width: 100%;overflow: auto;}#sk-container-id-1 input.sk-toggleable__control:checked~label.sk-toggleable__label-arrow:before {content: \"▾\";}#sk-container-id-1 div.sk-estimator input.sk-toggleable__control:checked~label.sk-toggleable__label {background-color: #d4ebff;}#sk-container-id-1 div.sk-label input.sk-toggleable__control:checked~label.sk-toggleable__label {background-color: #d4ebff;}#sk-container-id-1 input.sk-hidden--visually {border: 0;clip: rect(1px 1px 1px 1px);clip: rect(1px, 1px, 1px, 1px);height: 1px;margin: -1px;overflow: hidden;padding: 0;position: absolute;width: 1px;}#sk-container-id-1 div.sk-estimator {font-family: monospace;background-color: #f0f8ff;border: 1px dotted black;border-radius: 0.25em;box-sizing: border-box;margin-bottom: 0.5em;}#sk-container-id-1 div.sk-estimator:hover {background-color: #d4ebff;}#sk-container-id-1 div.sk-parallel-item::after {content: \"\";width: 100%;border-bottom: 1px solid gray;flex-grow: 1;}#sk-container-id-1 div.sk-label:hover label.sk-toggleable__label {background-color: #d4ebff;}#sk-container-id-1 div.sk-serial::before {content: \"\";position: absolute;border-left: 1px solid gray;box-sizing: border-box;top: 0;bottom: 0;left: 50%;z-index: 0;}#sk-container-id-1 div.sk-serial {display: flex;flex-direction: column;align-items: center;background-color: white;padding-right: 0.2em;padding-left: 0.2em;position: relative;}#sk-container-id-1 div.sk-item {position: relative;z-index: 1;}#sk-container-id-1 div.sk-parallel {display: flex;align-items: stretch;justify-content: center;background-color: white;position: relative;}#sk-container-id-1 div.sk-item::before, #sk-container-id-1 div.sk-parallel-item::before {content: \"\";position: absolute;border-left: 1px solid gray;box-sizing: border-box;top: 0;bottom: 0;left: 50%;z-index: -1;}#sk-container-id-1 div.sk-parallel-item {display: flex;flex-direction: column;z-index: 1;position: relative;background-color: white;}#sk-container-id-1 div.sk-parallel-item:first-child::after {align-self: flex-end;width: 50%;}#sk-container-id-1 div.sk-parallel-item:last-child::after {align-self: flex-start;width: 50%;}#sk-container-id-1 div.sk-parallel-item:only-child::after {width: 0;}#sk-container-id-1 div.sk-dashed-wrapped {border: 1px dashed gray;margin: 0 0.4em 0.5em 0.4em;box-sizing: border-box;padding-bottom: 0.4em;background-color: white;}#sk-container-id-1 div.sk-label label {font-family: monospace;font-weight: bold;display: inline-block;line-height: 1.2em;}#sk-container-id-1 div.sk-label-container {text-align: center;}#sk-container-id-1 div.sk-container {/* jupyter's `normalize.less` sets `[hidden] { display: none; }` but bootstrap.min.css set `[hidden] { display: none !important; }` so we also need the `!important` here to be able to override the default hidden behavior on the sphinx rendered scikit-learn.org. See: https://github.com/scikit-learn/scikit-learn/issues/21755 */display: inline-block !important;position: relative;}#sk-container-id-1 div.sk-text-repr-fallback {display: none;}</style><div id=\"sk-container-id-1\" class=\"sk-top-container\"><div class=\"sk-text-repr-fallback\"><pre>SVC()</pre><b>In a Jupyter environment, please rerun this cell to show the HTML representation or trust the notebook. <br />On GitHub, the HTML representation is unable to render, please try loading this page with nbviewer.org.</b></div><div class=\"sk-container\" hidden><div class=\"sk-item\"><div class=\"sk-estimator sk-toggleable\"><input class=\"sk-toggleable__control sk-hidden--visually\" id=\"sk-estimator-id-1\" type=\"checkbox\" checked><label for=\"sk-estimator-id-1\" class=\"sk-toggleable__label sk-toggleable__label-arrow\">SVC</label><div class=\"sk-toggleable__content\"><pre>SVC()</pre></div></div></div></div></div>"
            ]
          },
          "metadata": {},
          "execution_count": 20
        }
      ]
    },
    {
      "cell_type": "code",
      "source": [
        "from sklearn.metrics import accuracy_score\n",
        "Y_pred = classifier.predict(X_test_selected)"
      ],
      "metadata": {
        "id": "lj_XRyszsval"
      },
      "execution_count": null,
      "outputs": []
    },
    {
      "cell_type": "code",
      "source": [
        "import seaborn as sns\n",
        "import matplotlib.pyplot as plt\n",
        "from sklearn.metrics import confusion_matrix\n",
        "\n",
        "conf_matrix = confusion_matrix(Y_test, Y_pred)\n",
        "\n",
        "# Plotting the confusion matrix heatmap\n",
        "plt.figure(figsize=(8, 6))\n",
        "sns.heatmap(conf_matrix, annot=True, fmt='d', cmap='Blues',\n",
        "            xticklabels=['Not Readmitted', 'Readmitted'],\n",
        "            yticklabels=['Not Readmitted', 'Readmitted'])\n",
        "plt.ylabel('Actual')\n",
        "plt.xlabel('Predicted')\n",
        "plt.title('Confusion Matrix Heatmap (SVC)')\n",
        "plt.show()\n",
        "\n"
      ],
      "metadata": {
        "colab": {
          "base_uri": "https://localhost:8080/",
          "height": 564
        },
        "id": "ostuNZKtTrK5",
        "outputId": "77733166-2a8a-466d-cbc5-06cc9415fe6c"
      },
      "execution_count": null,
      "outputs": [
        {
          "output_type": "display_data",
          "data": {
            "text/plain": [
              "<Figure size 800x600 with 2 Axes>"
            ],
            "image/png": "[encoded data removed]"
          },
          "metadata": {}
        }
      ]
    },
    {
      "cell_type": "code",
      "source": [
        "from sklearn.metrics import classification_report\n",
        "\n",
        "accuracy_svc = accuracy_score(Y_test, Y_pred)\n",
        "print(f\"Accuracy: {accuracy_svc:.4f}\")\n",
        "print(conf_matrix)\n",
        "\n",
        "# Generate classification report\n",
        "class_report = classification_report(Y_test, Y_pred)\n",
        "\n",
        "# Print the classification report\n",
        "print(class_report)\n"
      ],
      "metadata": {
        "colab": {
          "base_uri": "https://localhost:8080/"
        },
        "id": "tCKC8CxcEtLq",
        "outputId": "9ee4faea-0831-4159-9e2b-a3d0d03b3bc1"
      },
      "execution_count": null,
      "outputs": [
        {
          "output_type": "stream",
          "name": "stdout",
          "text": [
            "Accuracy: 0.6155\n",
            "[[10559  3116]\n",
            " [ 6666  5101]]\n",
            "              precision    recall  f1-score   support\n",
            "\n",
            "           0       0.61      0.77      0.68     13675\n",
            "           1       0.62      0.43      0.51     11767\n",
            "\n",
            "    accuracy                           0.62     25442\n",
            "   macro avg       0.62      0.60      0.60     25442\n",
            "weighted avg       0.62      0.62      0.60     25442\n",
            "\n"
          ]
        }
      ]
    },
    {
      "cell_type": "code",
      "source": [
        "from sklearn.linear_model import LogisticRegression\n",
        "# Train a logistic regression model\n",
        "logreg = LogisticRegression(max_iter=500, random_state=42)\n",
        "logreg.fit(X_train_selected, Y_train)\n",
        "\n",
        "# Predict on the test data\n",
        "Y_pred_logreg = logreg.predict(X_test_selected)\n"
      ],
      "metadata": {
        "id": "nb93EsR0EtPr"
      },
      "execution_count": null,
      "outputs": []
    },
    {
      "cell_type": "code",
      "source": [
        "# Evaluate the model\n",
        "accuracy = accuracy_score(Y_test, Y_pred_logreg)\n",
        "conf_matrix_log = confusion_matrix(Y_test, Y_pred_logreg)\n",
        "class_report = classification_report(Y_test, Y_pred_logreg)"
      ],
      "metadata": {
        "id": "CPbEADT7EtS_"
      },
      "execution_count": null,
      "outputs": []
    },
    {
      "cell_type": "code",
      "source": [
        "print(f\"Accuracy: {accuracy:.4f}\")\n",
        "print(\"Confusion Matrix:\")\n",
        "print(conf_matrix_log)\n",
        "print(\"Classification Report:\")\n",
        "print(class_report)\n"
      ],
      "metadata": {
        "colab": {
          "base_uri": "https://localhost:8080/"
        },
        "id": "SZo7zhA2EtVi",
        "outputId": "f9b95f4b-6469-489f-dfb2-1369af0d0be6"
      },
      "execution_count": null,
      "outputs": [
        {
          "output_type": "stream",
          "name": "stdout",
          "text": [
            "Accuracy: 0.6115\n",
            "Confusion Matrix:\n",
            "[[11184  2491]\n",
            " [ 7394  4373]]\n",
            "Classification Report:\n",
            "              precision    recall  f1-score   support\n",
            "\n",
            "           0       0.60      0.82      0.69     13675\n",
            "           1       0.64      0.37      0.47     11767\n",
            "\n",
            "    accuracy                           0.61     25442\n",
            "   macro avg       0.62      0.59      0.58     25442\n",
            "weighted avg       0.62      0.61      0.59     25442\n",
            "\n"
          ]
        }
      ]
    },
    {
      "cell_type": "code",
      "source": [
        "import seaborn as sns\n",
        "import matplotlib.pyplot as plt\n",
        "from sklearn.metrics import confusion_matrix\n",
        "\n",
        "\n",
        "# Plotting the confusion matrix heatmap\n",
        "plt.figure(figsize=(8, 6))\n",
        "sns.heatmap(conf_matrix_log, annot=True, fmt='d', cmap='Blues',\n",
        "            xticklabels=['Not Readmitted', 'Readmitted'],\n",
        "            yticklabels=['Not Readmitted', 'Readmitted'])\n",
        "plt.ylabel('Actual')\n",
        "plt.xlabel('Predicted')\n",
        "plt.title('Confusion Matrix Heatmap (Logistic Regression)')\n",
        "plt.show()\n",
        "\n"
      ],
      "metadata": {
        "colab": {
          "base_uri": "https://localhost:8080/",
          "height": 564
        },
        "id": "A_b1vNyyTasV",
        "outputId": "d982018e-2a39-4b12-edca-a226a2f818d1"
      },
      "execution_count": null,
      "outputs": [
        {
          "output_type": "display_data",
          "data": {
            "text/plain": [
              "<Figure size 800x600 with 2 Axes>"
            ],
            "image/png": "[encoded data removed]"
          },
          "metadata": {}
        }
      ]
    },
    {
      "cell_type": "code",
      "source": [
        "from sklearn.svm import SVC\n",
        "\n",
        "# Initialize SVC classifier with decision_function_shape='ovr'\n",
        "classifier_svc = SVC(kernel='rbf', decision_function_shape='ovr')\n",
        "\n",
        "# Fit the classifier\n",
        "classifier_svc.fit(X_train_selected, Y_train)\n",
        "\n",
        "# Now you can use decision_function\n",
        "svc_scores = classifier_svc.decision_function(X_test_selected)\n"
      ],
      "metadata": {
        "id": "OI26I2y6pGRE"
      },
      "execution_count": null,
      "outputs": []
    },
    {
      "cell_type": "code",
      "source": [
        "from sklearn.metrics import roc_curve, auc\n",
        "# Calculate FPR, TPR, and thresholds\n",
        "fpr_svc, tpr_svc, thresholds_svc = roc_curve(Y_test, svc_scores)\n",
        "\n",
        "# Calculate AUC\n",
        "roc_auc_svc = auc(fpr_svc, tpr_svc)"
      ],
      "metadata": {
        "id": "jIiNPTz4pGTx"
      },
      "execution_count": null,
      "outputs": []
    },
    {
      "cell_type": "code",
      "source": [
        "from sklearn.metrics import roc_curve, auc\n",
        "from sklearn.linear_model import LogisticRegression\n",
        "from sklearn.model_selection import train_test_split\n",
        "\n",
        "logreg = LogisticRegression(max_iter=500, random_state=42)\n",
        "logreg.fit(X_train_selected, Y_train)\n",
        "\n",
        "# Assuming classifier_logreg is your trained Logistic Regression classifier\n",
        "# Get the decision function scores\n",
        "logreg_scores = classifier_logreg.decision_function(X_test)\n",
        "\n",
        "# Calculate FPR, TPR, and thresholds\n",
        "fpr_logreg, tpr_logreg, thresholds_logreg = roc_curve(Y_test, logreg_scores)\n",
        "\n",
        "# Calculate AUC\n",
        "roc_auc_logreg = auc(fpr_logreg, tpr_logreg)\n"
      ],
      "metadata": {
        "id": "Q7oBawgQ1uds",
        "colab": {
          "base_uri": "https://localhost:8080/",
          "height": 211
        },
        "outputId": "a9586fb9-d038-419b-b289-ed10b16c6db3"
      },
      "execution_count": null,
      "outputs": [
        {
          "output_type": "error",
          "ename": "NameError",
          "evalue": "name 'classifier_logreg' is not defined",
          "traceback": [
            "\u001b[0;31m---------------------------------------------------------------------------\u001b[0m",
            "\u001b[0;31mNameError\u001b[0m                                 Traceback (most recent call last)",
            "\u001b[0;32m<ipython-input-35-f2564452c4ef>\u001b[0m in \u001b[0;36m<cell line: 10>\u001b[0;34m()\u001b[0m\n\u001b[1;32m      8\u001b[0m \u001b[0;31m# Assuming classifier_logreg is your trained Logistic Regression classifier\u001b[0m\u001b[0;34m\u001b[0m\u001b[0;34m\u001b[0m\u001b[0m\n\u001b[1;32m      9\u001b[0m \u001b[0;31m# Get the decision function scores\u001b[0m\u001b[0;34m\u001b[0m\u001b[0;34m\u001b[0m\u001b[0m\n\u001b[0;32m---> 10\u001b[0;31m \u001b[0mlogreg_scores\u001b[0m \u001b[0;34m=\u001b[0m \u001b[0mclassifier_logreg\u001b[0m\u001b[0;34m.\u001b[0m\u001b[0mdecision_function\u001b[0m\u001b[0;34m(\u001b[0m\u001b[0mX_test\u001b[0m\u001b[0;34m)\u001b[0m\u001b[0;34m\u001b[0m\u001b[0;34m\u001b[0m\u001b[0m\n\u001b[0m\u001b[1;32m     11\u001b[0m \u001b[0;34m\u001b[0m\u001b[0m\n\u001b[1;32m     12\u001b[0m \u001b[0;31m# Calculate FPR, TPR, and thresholds\u001b[0m\u001b[0;34m\u001b[0m\u001b[0;34m\u001b[0m\u001b[0m\n",
            "\u001b[0;31mNameError\u001b[0m: name 'classifier_logreg' is not defined"
          ]
        }
      ]
    },
    {
      "cell_type": "code",
      "source": [
        "from sklearn.metrics import roc_curve, auc\n",
        "from sklearn.linear_model import LogisticRegression\n",
        "\n",
        "\n",
        "# Get the decision function scores\n",
        "logreg_scores = logreg.decision_function(X_test_selected)\n",
        "\n",
        "# Calculate FPR, TPR, and thresholds\n",
        "fpr_logreg, tpr_logreg, thresholds_logreg = roc_curve(Y_test, logreg_scores)\n",
        "\n",
        "# Calculate AUC\n",
        "roc_auc_logreg = auc(fpr_logreg, tpr_logreg)\n"
      ],
      "metadata": {
        "id": "e-Qhd48x1ugY"
      },
      "execution_count": null,
      "outputs": []
    },
    {
      "cell_type": "code",
      "source": [
        "plt.figure()\n",
        "plt.plot(fpr_svc, tpr_svc, color='darkorange', lw=2, label='SVC ROC curve (ROC area = %0.2f)' % roc_auc_svc)\n",
        "plt.plot(fpr_logreg, tpr_logreg, color='green', lw=2, label='Logistic Regression ROC curve (ROC area = %0.2f)' % roc_auc_logreg)\n",
        "plt.plot([0, 1], [0, 1], color='navy', lw=2, linestyle='--', label ='Random')\n",
        "plt.xlim([0.0, 1.0])\n",
        "plt.ylim([0.0, 1.05])\n",
        "plt.xlabel('False Positive Rate')\n",
        "plt.ylabel('True Positive Rate')\n",
        "plt.title('Receiver Operating Characteristic (ROC) Curve')\n",
        "plt.legend(loc=\"lower right\")\n",
        "plt.show()\n"
      ],
      "metadata": {
        "colab": {
          "base_uri": "https://localhost:8080/",
          "height": 472
        },
        "id": "iMMQthRX1ujW",
        "outputId": "fce73783-9e72-46e9-a4b1-e2b6b4855963"
      },
      "execution_count": null,
      "outputs": [
        {
          "output_type": "display_data",
          "data": {
            "text/plain": [
              "<Figure size 640x480 with 1 Axes>"
            ],
            "image/png": "[encoded data removed]"
          },
          "metadata": {}
        }
      ]
    },
    {
      "cell_type": "markdown",
      "source": [],
      "metadata": {
        "id": "aa1HKet_G2CR"
      }
    },
    {
      "cell_type": "code",
      "source": [
        "import numpy as np\n",
        "import matplotlib.pyplot as plt\n",
        "from sklearn.metrics import confusion_matrix\n",
        "\n",
        "# Define cost-benefit matrix (example)\n",
        "cost_benefit_matrix = np.array([[0, -13000], [-2500, 0]])\n",
        "\n",
        "# Calculate profit for each classification threshold\n",
        "thresholds = np.linspace(0, 1, 100)\n",
        "profits_svc = []\n",
        "profits_logreg = []\n",
        "\n",
        "for threshold in thresholds:\n",
        "    # For SVC\n",
        "    y_svc_pred = (svc_scores > threshold).astype(int)\n",
        "    cm_svc = confusion_matrix(Y_test, y_svc_pred)\n",
        "    profit_svc = np.sum(cm_svc * cost_benefit_matrix) / np.sum(cm_svc) # Corrected division\n",
        "    profits_svc.append(profit_svc)\n",
        "\n",
        "    # For Logistic Regression\n",
        "    y_logreg_pred = (logreg_scores > threshold).astype(int)\n",
        "    cm_logreg = confusion_matrix(Y_test, y_logreg_pred)\n",
        "    profit_logreg = np.sum(cm_logreg * cost_benefit_matrix) / np.sum(cm_logreg) # Corrected division\n",
        "    profits_logreg.append(profit_logreg)\n",
        "\n",
        "# Plot profit curves\n",
        "plt.plot(thresholds, profits_svc, label='SVC')\n",
        "plt.plot(thresholds, profits_logreg, label='Logistic Regression')\n",
        "plt.xlabel('Threshold')\n",
        "plt.ylabel('Expected Profit')\n",
        "plt.title('Profit Curve')\n",
        "plt.legend()\n",
        "plt.show()\n"
      ],
      "metadata": {
        "colab": {
          "base_uri": "https://localhost:8080/",
          "height": 472
        },
        "id": "82PqnE7A2wRp",
        "outputId": "52ae38ba-4208-4519-9d09-ab57b50b0c9f"
      },
      "execution_count": null,
      "outputs": [
        {
          "output_type": "display_data",
          "data": {
            "text/plain": [
              "<Figure size 640x480 with 1 Axes>"
            ],
            "image/png": "[encoded data removed]"
          },
          "metadata": {}
        }
      ]
    },
    {
      "cell_type": "code",
      "source": [],
      "metadata": {
        "id": "HSbNafyOJ2zJ"
      },
      "execution_count": null,
      "outputs": []
    },
    {
      "cell_type": "code",
      "source": [
        "!pip install gower"
      ],
      "metadata": {
        "id": "Z6Q86hCRJ219"
      },
      "execution_count": null,
      "outputs": []
    },
    {
      "cell_type": "markdown",
      "source": [
        "H Clustering"
      ],
      "metadata": {
        "id": "5dIWnRX9Xw2E"
      }
    },
    {
      "cell_type": "code",
      "source": [
        "import pandas as pd\n",
        "from sklearn.preprocessing import StandardScaler\n",
        "from scipy.cluster.hierarchy import linkage, dendrogram\n",
        "from gower import gower_matrix\n",
        "import matplotlib.pyplot as plt\n",
        "\n",
        "\n",
        "df_final_cleaned = df_final.dropna(subset=['race'])\n",
        "\n",
        "subset_df = df_final_cleaned.head(20000)\n",
        "\n",
        "\n",
        "# Select numeric features and encode categorical variables simultaneously\n",
        "X_numeric_categorical = subset_df[['time_in_hospital', 'num_lab_procedures', 'num_procedures', 'num_medications',\n",
        "                                    'number_outpatient', 'number_emergency', 'number_inpatient', 'number_diagnoses',\n",
        "                                    'race', 'gender', 'age', 'change', 'diabetesMed']]\n",
        "\n",
        "# Convert categorical variables using one-hot encoding and convert boolean values to integers\n",
        "X_numeric = X_numeric_categorical.drop(columns=['race', 'gender', 'age', 'change', 'diabetesMed'])\n",
        "X_categorical = pd.get_dummies(X_numeric_categorical[[\"race\", \"gender\", \"age\", \"change\", \"diabetesMed\"]]).astype(int)\n",
        "\n",
        "# Standardize numerical features\n",
        "scaler = StandardScaler()\n",
        "X_numeric_scaled = scaler.fit_transform(X_numeric)\n",
        "\n",
        "X_numeric_scaled_df = pd.DataFrame(X_numeric_scaled, index=X_numeric.index)\n",
        "\n",
        "# Join standardized numerical features and one-hot encoded categorical features based on index\n",
        "X_all = X_numeric_scaled_df.join(X_categorical)\n",
        "\n",
        "distance_matrix = gower_matrix(X_all)\n",
        "\n",
        "from scipy.spatial.distance import squareform\n",
        "\n",
        "# Convert distance matrix to condensed format\n",
        "condensed_distance_matrix = squareform(distance_matrix)\n",
        "\n",
        "# Hierarchical clustering\n",
        "linkage_matrix = linkage(condensed_distance_matrix, method='ward')\n",
        "\n",
        "# Plot dendrogram\n",
        "plt.figure(figsize=(12, 8))\n",
        "dendrogram(linkage_matrix)\n",
        "plt.title('Hierarchical Clustering Dendrogram')\n",
        "plt.xlabel('Index')\n",
        "plt.ylabel('Distance')\n",
        "plt.show()\n"
      ],
      "metadata": {
        "id": "abW0sD0hJ24u"
      },
      "execution_count": null,
      "outputs": []
    },
    {
      "cell_type": "code",
      "source": [
        "from scipy.cluster.hierarchy import fcluster\n",
        "num_clusters = 3\n",
        "clusters = fcluster(linkage_matrix, num_clusters, criterion='maxclust')\n",
        "\n",
        "# Print cluster assignments\n",
        "print(\"Cluster assignments:\")\n",
        "print(clusters)"
      ],
      "metadata": {
        "id": "S8iD8zNA_5h-"
      },
      "execution_count": null,
      "outputs": []
    },
    {
      "cell_type": "code",
      "source": [
        "# Assuming 'clusters' contains the cluster labels assigned to each row\n",
        "# Add cluster labels to the cleaned DataFrame\n",
        "subset_df.loc[:, 'cluster'] = clusters\n",
        "\n",
        "# Group the DataFrame by cluster and calculate the readmission rate for each cluster\n",
        "readmission_rate = subset_df.groupby('cluster')['readmitted'].mean()\n",
        "\n",
        "print(\"Readmission rate in each cluster:\")\n",
        "print(readmission_rate)\n"
      ],
      "metadata": {
        "id": "VRDcD2rt5u9k"
      },
      "execution_count": null,
      "outputs": []
    },
    {
      "cell_type": "code",
      "source": [
        "from sklearn.metrics import silhouette_score\n",
        "\n",
        "# Compute silhouette score\n",
        "silhouette_avg = silhouette_score(X_all, clusters)\n",
        "print(\"Silhouette Score:\", silhouette_avg)\n"
      ],
      "metadata": {
        "id": "Tl_uhPUgFyOs"
      },
      "execution_count": null,
      "outputs": []
    },
    {
      "cell_type": "code",
      "source": [],
      "metadata": {
        "id": "Zkh2PfzOEZ63"
      },
      "execution_count": null,
      "outputs": []
    },
    {
      "cell_type": "code",
      "source": [
        "# Convert feature names to strings\n",
        "X_all.columns = X_all.columns.astype(str)\n",
        "\n",
        "# Initialize the KMeans clustering algorithm with desired number of clusters\n",
        "num_clusters = 3  # You can adjust this based on your requirement\n",
        "kmeans = KMeans(n_clusters=num_clusters)\n",
        "\n",
        "# Fit the KMeans model to the data\n",
        "kmeans.fit(X_all)\n",
        "\n",
        "# Get cluster labels for each data point\n",
        "cluster_labels = kmeans.labels_\n",
        "\n",
        "# Add cluster labels to the DataFrame\n",
        "subset_df.loc[:, 'cluster_kmeans'] = cluster_labels\n",
        "\n",
        "# Print the counts of data points in each cluster\n",
        "print(\"Counts of data points in each cluster:\")\n",
        "print(subset_df['cluster_kmeans'].value_counts())\n",
        "\n",
        "# Alternatively, you can directly use the cluster labels to access data points in each cluster\n",
        "clusters_data = {}\n",
        "for cluster_label in range(num_clusters):\n",
        "    clusters_data[cluster_label] = subset_df[subset_df['cluster_kmeans'] == cluster_label]\n",
        "\n",
        "# Now you can further analyze each cluster or perform any other tasks as needed\n"
      ],
      "metadata": {
        "id": "RUyPMdY5EaAk"
      },
      "execution_count": null,
      "outputs": []
    },
    {
      "cell_type": "code",
      "source": [
        "subset_df"
      ],
      "metadata": {
        "id": "6vwo1mXdEaDd"
      },
      "execution_count": null,
      "outputs": []
    },
    {
      "cell_type": "code",
      "source": [
        "readmission_rate = subset_df.groupby('cluster_kmeans')['readmitted'].mean()\n",
        "\n",
        "print(\"Readmission rate in each cluster:\")\n",
        "print(readmission_rate)"
      ],
      "metadata": {
        "id": "sGnKqB2oGTpM"
      },
      "execution_count": null,
      "outputs": []
    },
    {
      "cell_type": "code",
      "source": [
        "from sklearn.metrics import silhouette_score\n",
        "\n",
        "# Assuming you have already performed clustering and have cluster labels\n",
        "silhouette_avg = silhouette_score(X_all, cluster_labels)\n",
        "print(\"Silhouette Score KMeans:\", silhouette_avg)\n"
      ],
      "metadata": {
        "id": "vjFYZmahGTrv"
      },
      "execution_count": null,
      "outputs": []
    }
  ]
}